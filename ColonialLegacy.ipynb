{
 "cells": [
  {
   "cell_type": "code",
   "execution_count": 1,
   "source": [
    "import pandas as pd\n",
    "import numpy as np"
   ],
   "outputs": [],
   "metadata": {}
  },
  {
   "cell_type": "code",
   "execution_count": null,
   "source": [
    "col = pd.read_csv('/Users/joamacha/Library/CloudStorage/OneDrive-TexasTechUniversity/Personal/Projects/Code/GitHub/ColonialLegacy/COLDAT_colonies.csv')\n",
    "efw = pd.read_excel('/Users/joamacha/Library/CloudStorage/OneDrive-TexasTechUniversity/Personal/Projects/Code/GitHub/ColonialLegacy/efotw-2022-master-index-data-for-researchers-iso.xlsx')\n",
    "vdem = pd.read_excel('/Users/joamacha/Library/CloudStorage/OneDrive-TexasTechUniversity/Personal/Projects/Code/GitHub/ColonialLegacy/VDem.xls')\n",
    "vdem.rename(columns={'v2x_libdem':'libdem','v2xcl_prpty':'prop_rights','v2clstown':'stateown'}, inplace=True)"
   ],
   "outputs": [],
   "metadata": {}
  },
  {
   "cell_type": "code",
   "execution_count": 126,
   "source": [
    "#Keep only colonies \n",
    "col = col.loc[col['time_total'] > 0]"
   ],
   "outputs": [],
   "metadata": {}
  },
  {
   "cell_type": "code",
   "execution_count": 128,
   "source": [
    "# Dummy for approximations of State Ownership for colonies beggining 1789\n",
    "for i in range(len(col)):\n",
    "    if col.iloc[i,10:18].min() < 1789:\n",
    "        col.iloc[i,37] = 1\n",
    "    else:\n",
    "        pass    \n",
    "        \n"
   ],
   "outputs": [],
   "metadata": {}
  },
  {
   "cell_type": "code",
   "execution_count": 154,
   "source": [
    "# Initialize columns with placeholder NaN\n",
    "for colonizer in colonizers: \n",
    "    col[f'efw_{colonizer}'] = np.nan"
   ],
   "outputs": [],
   "metadata": {}
  },
  {
   "cell_type": "code",
   "execution_count": 218,
   "source": [
    "#Names in V-Dem Data\n",
    "cold = {'belgium':'Belgium', 'britain':'United Kingdom', 'france':'France','germany':'Germany','italy':'Italy','netherlands':'Netherlands','portugal':'Portugal','spain':'Spain'}\n",
    "\n",
    "# Initialize column\n",
    "col['avg_efw'] = np.nan\n",
    "\n",
    "for country in col.loc[col['independence'] >= 1789, 'country_code']:\n",
    "    for colonizer in colonizers: \n",
    "        end_year = col.loc[col['country_code']==country, f'colend_{colonizer}'].values[0]\n",
    "        if end_year < 1789:\n",
    "            avg_efw = vdem.loc[(vdem['country_name'] == cold[colonizer]) & (vdem['year'] == 1789), 'stateown'].values[0]\n",
    "            timec = col.loc[col['country_code']==country, f'time_{colonizer}'].values[0]\n",
    "            col.loc[col['country_code']==country, f'efw_{colonizer}'] = avg_efw * timec\n",
    "        else: \n",
    "            begin_year = col.loc[col['country_code']==country, f'colstart_{colonizer}'].values[0]\n",
    "            avg_efw = vdem.loc[(vdem['country_name'] == cold[colonizer]) & (vdem['year'] >= begin_year) & (vdem['year'] <= end_year), 'stateown'].mean() \n",
    "            timec = col.loc[col['country_code']==country, f'time_{colonizer}'].values[0]\n",
    "            col.loc[col['country_code']==country, f'efw_{colonizer}'] = avg_efw * timec\n",
    "\n",
    "col['avg_efw'] = col[col.columns[38:46]].sum(axis=1) / col['time_total']  "
   ],
   "outputs": [],
   "metadata": {}
  },
  {
   "cell_type": "code",
   "execution_count": 220,
   "source": [
    "#Exclude 2020 because of the pandemic\n",
    "efw = efw.loc[(efw['Year']<2020) & (efw['Year'] >1999)].rename(columns={'World Bank Region': \"wb_region\"})\n",
    "efw.sort_values(by='Countries').head()"
   ],
   "outputs": [
    {
     "output_type": "execute_result",
     "data": {
      "text/html": [
       "<div>\n",
       "<style scoped>\n",
       "    .dataframe tbody tr th:only-of-type {\n",
       "        vertical-align: middle;\n",
       "    }\n",
       "\n",
       "    .dataframe tbody tr th {\n",
       "        vertical-align: top;\n",
       "    }\n",
       "\n",
       "    .dataframe thead th {\n",
       "        text-align: right;\n",
       "    }\n",
       "</style>\n",
       "<table border=\"1\" class=\"dataframe\">\n",
       "  <thead>\n",
       "    <tr style=\"text-align: right;\">\n",
       "      <th></th>\n",
       "      <th>Year</th>\n",
       "      <th>ISO_Code_2</th>\n",
       "      <th>ISO_Code_3</th>\n",
       "      <th>wb_region</th>\n",
       "      <th>World Bank Current Income Classification, 1990-present (L=Low income, LM=Lower middle income, UM=Upper middle income, H=High income)</th>\n",
       "      <th>Countries</th>\n",
       "      <th>efw</th>\n",
       "      <th>Area 1</th>\n",
       "      <th>Area 2</th>\n",
       "      <th>Area 3</th>\n",
       "      <th>Area 4</th>\n",
       "      <th>Area 5</th>\n",
       "      <th>std</th>\n",
       "    </tr>\n",
       "  </thead>\n",
       "  <tbody>\n",
       "    <tr>\n",
       "      <th>165</th>\n",
       "      <td>2019</td>\n",
       "      <td>AL</td>\n",
       "      <td>ALB</td>\n",
       "      <td>Europe &amp; Central Asia</td>\n",
       "      <td>UM</td>\n",
       "      <td>Albania</td>\n",
       "      <td>7.789804</td>\n",
       "      <td>7.914268</td>\n",
       "      <td>5.258761</td>\n",
       "      <td>9.826940</td>\n",
       "      <td>8.230911</td>\n",
       "      <td>7.700060</td>\n",
       "      <td>1.641201</td>\n",
       "    </tr>\n",
       "    <tr>\n",
       "      <th>2970</th>\n",
       "      <td>2002</td>\n",
       "      <td>AL</td>\n",
       "      <td>ALB</td>\n",
       "      <td>Europe &amp; Central Asia</td>\n",
       "      <td>LM</td>\n",
       "      <td>Albania</td>\n",
       "      <td>6.742276</td>\n",
       "      <td>8.223671</td>\n",
       "      <td>4.845155</td>\n",
       "      <td>7.101343</td>\n",
       "      <td>6.097055</td>\n",
       "      <td>7.291095</td>\n",
       "      <td>1.287959</td>\n",
       "    </tr>\n",
       "    <tr>\n",
       "      <th>1485</th>\n",
       "      <td>2011</td>\n",
       "      <td>AL</td>\n",
       "      <td>ALB</td>\n",
       "      <td>Europe &amp; Central Asia</td>\n",
       "      <td>LM</td>\n",
       "      <td>Albania</td>\n",
       "      <td>7.520319</td>\n",
       "      <td>8.071567</td>\n",
       "      <td>5.132500</td>\n",
       "      <td>9.641108</td>\n",
       "      <td>6.996151</td>\n",
       "      <td>7.729106</td>\n",
       "      <td>1.644798</td>\n",
       "    </tr>\n",
       "    <tr>\n",
       "      <th>1980</th>\n",
       "      <td>2008</td>\n",
       "      <td>AL</td>\n",
       "      <td>ALB</td>\n",
       "      <td>Europe &amp; Central Asia</td>\n",
       "      <td>LM</td>\n",
       "      <td>Albania</td>\n",
       "      <td>7.368699</td>\n",
       "      <td>8.225602</td>\n",
       "      <td>5.479977</td>\n",
       "      <td>9.433083</td>\n",
       "      <td>6.533912</td>\n",
       "      <td>7.121853</td>\n",
       "      <td>1.526479</td>\n",
       "    </tr>\n",
       "    <tr>\n",
       "      <th>330</th>\n",
       "      <td>2018</td>\n",
       "      <td>AL</td>\n",
       "      <td>ALB</td>\n",
       "      <td>Europe &amp; Central Asia</td>\n",
       "      <td>UM</td>\n",
       "      <td>Albania</td>\n",
       "      <td>7.759843</td>\n",
       "      <td>7.811582</td>\n",
       "      <td>5.221942</td>\n",
       "      <td>9.760704</td>\n",
       "      <td>8.221900</td>\n",
       "      <td>7.767841</td>\n",
       "      <td>1.632527</td>\n",
       "    </tr>\n",
       "  </tbody>\n",
       "</table>\n",
       "</div>"
      ],
      "text/plain": [
       "      Year ISO_Code_2 ISO_Code_3              wb_region  \\\n",
       "165   2019         AL        ALB  Europe & Central Asia   \n",
       "2970  2002         AL        ALB  Europe & Central Asia   \n",
       "1485  2011         AL        ALB  Europe & Central Asia   \n",
       "1980  2008         AL        ALB  Europe & Central Asia   \n",
       "330   2018         AL        ALB  Europe & Central Asia   \n",
       "\n",
       "     World Bank Current Income Classification, 1990-present (L=Low income, LM=Lower middle income, UM=Upper middle income, H=High income)  \\\n",
       "165                                                  UM                                                                                     \n",
       "2970                                                 LM                                                                                     \n",
       "1485                                                 LM                                                                                     \n",
       "1980                                                 LM                                                                                     \n",
       "330                                                  UM                                                                                     \n",
       "\n",
       "     Countries       efw    Area 1    Area 2    Area 3    Area 4    Area 5  \\\n",
       "165    Albania  7.789804  7.914268  5.258761  9.826940  8.230911  7.700060   \n",
       "2970   Albania  6.742276  8.223671  4.845155  7.101343  6.097055  7.291095   \n",
       "1485   Albania  7.520319  8.071567  5.132500  9.641108  6.996151  7.729106   \n",
       "1980   Albania  7.368699  8.225602  5.479977  9.433083  6.533912  7.121853   \n",
       "330    Albania  7.759843  7.811582  5.221942  9.760704  8.221900  7.767841   \n",
       "\n",
       "           std  \n",
       "165   1.641201  \n",
       "2970  1.287959  \n",
       "1485  1.644798  \n",
       "1980  1.526479  \n",
       "330   1.632527  "
      ]
     },
     "metadata": {},
     "execution_count": 220
    }
   ],
   "metadata": {}
  },
  {
   "cell_type": "code",
   "execution_count": 221,
   "source": [
    "means = efw.groupby('ISO_Code_3')['efw','Area 1','Area 2','Area 3','Area 4','Area 5','std'].mean()"
   ],
   "outputs": [
    {
     "output_type": "stream",
     "name": "stderr",
     "text": [
      "<ipython-input-221-80b283be3827>:1: FutureWarning: Indexing with multiple keys (implicitly converted to a tuple of keys) will be deprecated, use a list instead.\n",
      "  means = efw.groupby('ISO_Code_3')['efw','Area 1','Area 2','Area 3','Area 4','Area 5','std'].mean()\n"
     ]
    }
   ],
   "metadata": {}
  },
  {
   "cell_type": "code",
   "execution_count": 222,
   "source": [
    "df = pd.merge(col, means, left_on='country_code', right_on='ISO_Code_3', how='left')"
   ],
   "outputs": [],
   "metadata": {}
  },
  {
   "cell_type": "code",
   "execution_count": null,
   "source": [
    "df = pd.read_excel()"
   ],
   "outputs": [],
   "metadata": {}
  },
  {
   "cell_type": "code",
   "execution_count": 223,
   "source": [
    "df.to_excel('colonies.xlsx')"
   ],
   "outputs": [],
   "metadata": {}
  },
  {
   "cell_type": "markdown",
   "source": [
    "# WORLD VALUE SURVEY"
   ],
   "metadata": {}
  },
  {
   "cell_type": "code",
   "execution_count": 8,
   "source": [
    "wvs = pd.read_excel('/Users/joamacha/Library/CloudStorage/OneDrive-TexasTechUniversity/Personal/Projects/Code/GitHub/ColonialLegacy/WVS.xls')\n",
    "df = pd.read_excel('/Users/joamacha/Library/CloudStorage/OneDrive-TexasTechUniversity/Personal/Projects/Code/GitHub/ColonialLegacy/colonies.xlsx')"
   ],
   "outputs": [],
   "metadata": {}
  },
  {
   "cell_type": "code",
   "execution_count": 9,
   "source": [
    "df = pd.merge(df, wvs, left_on='country_code', right_on='COUNTRY_ALPHA', how='left')\n",
    "df.to_excel('colonies_wvs.xlsx')"
   ],
   "outputs": [],
   "metadata": {}
  }
 ],
 "metadata": {
  "orig_nbformat": 4,
  "language_info": {
   "name": "python",
   "version": "3.8.8",
   "mimetype": "text/x-python",
   "codemirror_mode": {
    "name": "ipython",
    "version": 3
   },
   "pygments_lexer": "ipython3",
   "nbconvert_exporter": "python",
   "file_extension": ".py"
  },
  "kernelspec": {
   "name": "python3",
   "display_name": "Python 3.8.8 64-bit ('base': conda)"
  },
  "interpreter": {
   "hash": "2a65fc9edfcc376227a1aaee232936ba2b8e718ac6bbe0a7c7c3e13954fe0fb0"
  }
 },
 "nbformat": 4,
 "nbformat_minor": 2
}